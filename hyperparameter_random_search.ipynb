{
 "cells": [
  {
   "cell_type": "code",
   "execution_count": null,
   "metadata": {},
   "outputs": [],
   "source": [
    "%load_ext autoreload\n",
    "%autoreload 2"
   ]
  },
  {
   "cell_type": "code",
   "execution_count": null,
   "metadata": {
    "pycharm": {
     "is_executing": false
    }
   },
   "outputs": [],
   "source": [
    "import random\n",
    "import sys\n",
    "from itertools import chain\n",
    "\n",
    "import numpy as np\n",
    "\n",
    "from bounding_box_classifiers.obama_detector import train_helper"
   ]
  },
  {
   "cell_type": "code",
   "execution_count": null,
   "metadata": {},
   "outputs": [],
   "source": [
    "static_params = {\n",
    "    \"seed\": 1,\n",
    "    \"data_dir\": \"data/bounding-box-obama-detector\",\n",
    "    \"use_cuda\": True,\n",
    "    \"val_batch_size\": 64,\n",
    "    \"epochs\": 20,\n",
    "    \"log_interval\": 10,\n",
    "    \"save_model\": False\n",
    "}\n",
    "\n",
    "variable_params = {\n",
    "    \"lr\": [0.1, 0.01, 0.001, 0.001],\n",
    "    \"momentum\": [0.5, 0.6, 0.7, 0.8, 0.9],\n",
    "    \"batch_size\": [32, 64, 128]\n",
    "}"
   ]
  },
  {
   "cell_type": "code",
   "execution_count": null,
   "metadata": {
    "pycharm": {
     "name": "#%%\n"
    }
   },
   "outputs": [],
   "source": [
    "used_variable_params = set()\n",
    "\n",
    "param_space_size = np.prod([len(p) for p in variable_params])\n",
    "while len(used_params) < param_space_size:\n",
    "    curr_params = {k: random.choice(v) for k, v in variable_params.items()}\n",
    "    curr_variable_params = tuple(chain.from_iterable(curr_params.items()))\n",
    "\n",
    "    if curr_variable_params not in used_variable_params:\n",
    "        print(\"Current variable parameters:\", curr_variable_params)\n",
    "        used_variable_params.add(curr_variable_params)\n",
    "        curr_params.update(static_params)\n",
    "        train_helper(**curr_params)"
   ]
  },
  {
   "cell_type": "markdown",
   "metadata": {},
   "source": [
    "# Best results\n",
    "Both with 62% test accuracy:\n",
    "```\n",
    "('--lr', '0.001', '--momentum', '0.9', '--batch-size', '32')  # epoch 2\n",
    "('--lr', '0.01', '--momentum', '0.6', '--batch-size', '32')  # epoch 5\n",
    "```"
   ]
  },
  {
   "cell_type": "code",
   "execution_count": 10,
   "metadata": {},
   "outputs": [
    {
     "name": "stdout",
     "output_type": "stream",
     "text": [
      "Train Epoch: 1 [0/248 (0%)]\tLoss: 0.767255\n",
      "\n",
      "Test set: Average loss: 4.1701, Accuracy: 33/64 (52%)\n",
      "\n",
      "Train Epoch: 2 [0/248 (0%)]\tLoss: 4.872567\n",
      "\n",
      "Test set: Average loss: 2.7590, Accuracy: 30/64 (47%)\n",
      "\n",
      "Train Epoch: 3 [0/248 (0%)]\tLoss: 2.006256\n",
      "\n",
      "Test set: Average loss: 1.6179, Accuracy: 35/64 (55%)\n",
      "\n",
      "Train Epoch: 4 [0/248 (0%)]\tLoss: 1.559603\n",
      "\n",
      "Test set: Average loss: 1.0682, Accuracy: 37/64 (58%)\n",
      "\n",
      "Train Epoch: 5 [0/248 (0%)]\tLoss: 1.021353\n",
      "\n",
      "Test set: Average loss: 0.9943, Accuracy: 38/64 (59%)\n",
      "\n",
      "Train Epoch: 6 [0/248 (0%)]\tLoss: 0.670594\n",
      "\n",
      "Test set: Average loss: 1.0897, Accuracy: 29/64 (45%)\n",
      "\n",
      "Train Epoch: 7 [0/248 (0%)]\tLoss: 0.832940\n",
      "\n",
      "Test set: Average loss: 0.9243, Accuracy: 34/64 (53%)\n",
      "\n",
      "Train Epoch: 8 [0/248 (0%)]\tLoss: 1.141534\n",
      "\n",
      "Test set: Average loss: 0.7599, Accuracy: 39/64 (61%)\n",
      "\n",
      "Train Epoch: 9 [0/248 (0%)]\tLoss: 0.803112\n",
      "\n",
      "Test set: Average loss: 0.7911, Accuracy: 33/64 (52%)\n",
      "\n",
      "Train Epoch: 10 [0/248 (0%)]\tLoss: 0.896224\n",
      "\n",
      "Test set: Average loss: 0.8298, Accuracy: 31/64 (48%)\n",
      "\n",
      "Train Epoch: 11 [0/248 (0%)]\tLoss: 0.558698\n",
      "\n",
      "Test set: Average loss: 0.8047, Accuracy: 34/64 (53%)\n",
      "\n",
      "Train Epoch: 12 [0/248 (0%)]\tLoss: 0.769420\n",
      "\n",
      "Test set: Average loss: 0.7697, Accuracy: 32/64 (50%)\n",
      "\n",
      "Train Epoch: 13 [0/248 (0%)]\tLoss: 0.700251\n",
      "\n",
      "Test set: Average loss: 0.8460, Accuracy: 31/64 (48%)\n",
      "\n",
      "Train Epoch: 14 [0/248 (0%)]\tLoss: 0.616663\n",
      "\n",
      "Test set: Average loss: 0.7728, Accuracy: 32/64 (50%)\n",
      "\n",
      "Train Epoch: 15 [0/248 (0%)]\tLoss: 0.664597\n",
      "\n",
      "Test set: Average loss: 0.7594, Accuracy: 32/64 (50%)\n",
      "\n",
      "Train Epoch: 16 [0/248 (0%)]\tLoss: 0.742151\n",
      "\n",
      "Test set: Average loss: 0.7717, Accuracy: 33/64 (52%)\n",
      "\n",
      "Train Epoch: 17 [0/248 (0%)]\tLoss: 0.679577\n",
      "\n",
      "Test set: Average loss: 0.7600, Accuracy: 36/64 (56%)\n",
      "\n",
      "Train Epoch: 18 [0/248 (0%)]\tLoss: 0.674779\n",
      "\n",
      "Test set: Average loss: 0.7470, Accuracy: 36/64 (56%)\n",
      "\n",
      "Train Epoch: 19 [0/248 (0%)]\tLoss: 0.646756\n",
      "\n",
      "Test set: Average loss: 0.7410, Accuracy: 33/64 (52%)\n",
      "\n",
      "Train Epoch: 20 [0/248 (0%)]\tLoss: 0.730891\n",
      "\n",
      "Test set: Average loss: 0.7216, Accuracy: 34/64 (53%)\n",
      "\n"
     ]
    }
   ],
   "source": [
    "best_params = {\n",
    "    \"lr\": 0.01,\n",
    "    \"momentum\": 0.6,\n",
    "    \"batch_size\": 32\n",
    "}\n",
    "best_params.update(static_params)\n",
    "\n",
    "train_helper(**best_params)"
   ]
  },
  {
   "cell_type": "code",
   "execution_count": null,
   "metadata": {},
   "outputs": [],
   "source": []
  }
 ],
 "metadata": {
  "kernelspec": {
   "display_name": "Python 3",
   "language": "python",
   "name": "python3"
  },
  "language_info": {
   "codemirror_mode": {
    "name": "ipython",
    "version": 3
   },
   "file_extension": ".py",
   "mimetype": "text/x-python",
   "name": "python",
   "nbconvert_exporter": "python",
   "pygments_lexer": "ipython3",
   "version": "3.7.3"
  },
  "pycharm": {
   "stem_cell": {
    "cell_type": "raw",
    "metadata": {
     "collapsed": false
    },
    "source": []
   }
  }
 },
 "nbformat": 4,
 "nbformat_minor": 1
}
